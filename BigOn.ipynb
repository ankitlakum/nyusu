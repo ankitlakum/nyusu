{
  "nbformat": 4,
  "nbformat_minor": 0,
  "metadata": {
    "colab": {
      "name": "BigOn.ipynb",
      "provenance": [],
      "collapsed_sections": [],
      "authorship_tag": "ABX9TyNTkIheEq2cJyV6Jg4bVKZ8",
      "include_colab_link": true
    },
    "kernelspec": {
      "name": "python3",
      "display_name": "Python 3"
    }
  },
  "cells": [
    {
      "cell_type": "markdown",
      "metadata": {
        "id": "view-in-github",
        "colab_type": "text"
      },
      "source": [
        "<a href=\"https://colab.research.google.com/github/ankitlakum/nyusu/blob/main/BigOn.ipynb\" target=\"_parent\"><img src=\"https://colab.research.google.com/assets/colab-badge.svg\" alt=\"Open In Colab\"/></a>"
      ]
    },
    {
      "cell_type": "markdown",
      "metadata": {
        "id": "dZsfHaWpJYzJ"
      },
      "source": [
        "#Imports"
      ]
    },
    {
      "cell_type": "code",
      "metadata": {
        "id": "BTm_KOMcJd8w"
      },
      "source": [
        ""
      ],
      "execution_count": null,
      "outputs": []
    },
    {
      "cell_type": "code",
      "metadata": {
        "id": "6km1lWMF2kAm"
      },
      "source": [
        "# To determine which version you're using:\n",
        "!pip show tensorflow\n",
        " \n",
        "# For the current version: \n",
        "!pip install --upgrade tensorflow\n",
        " \n",
        "# For a specific version:\n",
        "!pip install tensorflow==1.2\n",
        " \n",
        "# For the latest nightly build:\n",
        "!pip install tf-nightly\n",
        " \n",
        "# For bivariate_normal\n",
        "!pip install bivariate_normal\n",
        " \n",
        "taurus may 14th is zodiac sign of krishna"
      ],
      "execution_count": null,
      "outputs": []
    },
    {
      "cell_type": "code",
      "metadata": {
        "id": "th0_7mVsYtjz"
      },
      "source": [
        ""
      ],
      "execution_count": null,
      "outputs": []
    }
  ]
}